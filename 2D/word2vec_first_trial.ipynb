{
 "cells": [
  {
   "cell_type": "code",
   "execution_count": 1,
   "id": "8cf80c8d",
   "metadata": {},
   "outputs": [],
   "source": [
    "from random import shuffle\n",
    "\n",
    "import numpy as np\n",
    "import pandas as pd\n",
    "from sklearn.ensemble import RandomForestRegressor\n",
    "from sklearn.linear_model import LinearRegression\n",
    "from sklearn.multioutput import MultiOutputRegressor\n",
    "\n",
    "from gensim.models.word2vec import Word2Vec  # version 4.0.1 surely works (the one preinstalled in colab might not)\n",
    "\n",
    "# GENSIM API: https://radimrehurek.com/gensim/models/word2vec.html \n",
    "\n",
    "path_to_data = \"data//\"\n",
    "path_to_NLP = \"NLP//\""
   ]
  },
  {
   "cell_type": "code",
   "execution_count": 3,
   "id": "077a364c",
   "metadata": {},
   "outputs": [
    {
     "data": {
      "text/html": [
       "<div>\n",
       "<style scoped>\n",
       "    .dataframe tbody tr th:only-of-type {\n",
       "        vertical-align: middle;\n",
       "    }\n",
       "\n",
       "    .dataframe tbody tr th {\n",
       "        vertical-align: top;\n",
       "    }\n",
       "\n",
       "    .dataframe thead th {\n",
       "        text-align: right;\n",
       "    }\n",
       "</style>\n",
       "<table border=\"1\" class=\"dataframe\">\n",
       "  <thead>\n",
       "    <tr style=\"text-align: right;\">\n",
       "      <th></th>\n",
       "      <th>0</th>\n",
       "      <th>1</th>\n",
       "      <th>2</th>\n",
       "      <th>3</th>\n",
       "      <th>4</th>\n",
       "      <th>5</th>\n",
       "      <th>6</th>\n",
       "      <th>7</th>\n",
       "      <th>8</th>\n",
       "      <th>9</th>\n",
       "      <th>...</th>\n",
       "      <th>53</th>\n",
       "      <th>54</th>\n",
       "      <th>55</th>\n",
       "      <th>56</th>\n",
       "      <th>57</th>\n",
       "      <th>58</th>\n",
       "      <th>59</th>\n",
       "      <th>60</th>\n",
       "      <th>61</th>\n",
       "      <th>62</th>\n",
       "    </tr>\n",
       "  </thead>\n",
       "  <tbody>\n",
       "    <tr>\n",
       "      <th>0</th>\n",
       "      <td>0</td>\n",
       "      <td>0</td>\n",
       "      <td>0</td>\n",
       "      <td>0</td>\n",
       "      <td>0</td>\n",
       "      <td>0</td>\n",
       "      <td>0</td>\n",
       "      <td>0</td>\n",
       "      <td>0</td>\n",
       "      <td>0</td>\n",
       "      <td>...</td>\n",
       "      <td>0</td>\n",
       "      <td>0</td>\n",
       "      <td>0</td>\n",
       "      <td>0</td>\n",
       "      <td>0</td>\n",
       "      <td>0</td>\n",
       "      <td>0</td>\n",
       "      <td>0</td>\n",
       "      <td>0</td>\n",
       "      <td>0</td>\n",
       "    </tr>\n",
       "    <tr>\n",
       "      <th>1</th>\n",
       "      <td>0</td>\n",
       "      <td>0</td>\n",
       "      <td>0</td>\n",
       "      <td>0</td>\n",
       "      <td>0</td>\n",
       "      <td>0</td>\n",
       "      <td>0</td>\n",
       "      <td>0</td>\n",
       "      <td>0</td>\n",
       "      <td>0</td>\n",
       "      <td>...</td>\n",
       "      <td>0</td>\n",
       "      <td>0</td>\n",
       "      <td>1</td>\n",
       "      <td>0</td>\n",
       "      <td>0</td>\n",
       "      <td>0</td>\n",
       "      <td>0</td>\n",
       "      <td>0</td>\n",
       "      <td>0</td>\n",
       "      <td>0</td>\n",
       "    </tr>\n",
       "    <tr>\n",
       "      <th>2</th>\n",
       "      <td>0</td>\n",
       "      <td>0</td>\n",
       "      <td>0</td>\n",
       "      <td>0</td>\n",
       "      <td>0</td>\n",
       "      <td>0</td>\n",
       "      <td>0</td>\n",
       "      <td>0</td>\n",
       "      <td>0</td>\n",
       "      <td>0</td>\n",
       "      <td>...</td>\n",
       "      <td>0</td>\n",
       "      <td>0</td>\n",
       "      <td>0</td>\n",
       "      <td>0</td>\n",
       "      <td>0</td>\n",
       "      <td>0</td>\n",
       "      <td>0</td>\n",
       "      <td>0</td>\n",
       "      <td>0</td>\n",
       "      <td>0</td>\n",
       "    </tr>\n",
       "    <tr>\n",
       "      <th>3</th>\n",
       "      <td>0</td>\n",
       "      <td>0</td>\n",
       "      <td>0</td>\n",
       "      <td>0</td>\n",
       "      <td>0</td>\n",
       "      <td>0</td>\n",
       "      <td>0</td>\n",
       "      <td>0</td>\n",
       "      <td>0</td>\n",
       "      <td>0</td>\n",
       "      <td>...</td>\n",
       "      <td>0</td>\n",
       "      <td>0</td>\n",
       "      <td>0</td>\n",
       "      <td>0</td>\n",
       "      <td>0</td>\n",
       "      <td>0</td>\n",
       "      <td>0</td>\n",
       "      <td>0</td>\n",
       "      <td>0</td>\n",
       "      <td>0</td>\n",
       "    </tr>\n",
       "    <tr>\n",
       "      <th>4</th>\n",
       "      <td>0</td>\n",
       "      <td>0</td>\n",
       "      <td>0</td>\n",
       "      <td>0</td>\n",
       "      <td>0</td>\n",
       "      <td>0</td>\n",
       "      <td>0</td>\n",
       "      <td>0</td>\n",
       "      <td>0</td>\n",
       "      <td>0</td>\n",
       "      <td>...</td>\n",
       "      <td>0</td>\n",
       "      <td>0</td>\n",
       "      <td>0</td>\n",
       "      <td>0</td>\n",
       "      <td>0</td>\n",
       "      <td>0</td>\n",
       "      <td>0</td>\n",
       "      <td>0</td>\n",
       "      <td>0</td>\n",
       "      <td>0</td>\n",
       "    </tr>\n",
       "  </tbody>\n",
       "</table>\n",
       "<p>5 rows × 63 columns</p>\n",
       "</div>"
      ],
      "text/plain": [
       "   0   1   2   3   4   5   6   7   8   9   ...  53  54  55  56  57  58  59  \\\n",
       "0   0   0   0   0   0   0   0   0   0   0  ...   0   0   0   0   0   0   0   \n",
       "1   0   0   0   0   0   0   0   0   0   0  ...   0   0   1   0   0   0   0   \n",
       "2   0   0   0   0   0   0   0   0   0   0  ...   0   0   0   0   0   0   0   \n",
       "3   0   0   0   0   0   0   0   0   0   0  ...   0   0   0   0   0   0   0   \n",
       "4   0   0   0   0   0   0   0   0   0   0  ...   0   0   0   0   0   0   0   \n",
       "\n",
       "   60  61  62  \n",
       "0   0   0   0  \n",
       "1   0   0   0  \n",
       "2   0   0   0  \n",
       "3   0   0   0  \n",
       "4   0   0   0  \n",
       "\n",
       "[5 rows x 63 columns]"
      ]
     },
     "execution_count": 3,
     "metadata": {},
     "output_type": "execute_result"
    }
   ],
   "source": [
    "# Load data:\n",
    "\n",
    "def read_data(fname):\n",
    "    with open(fname, \"r\", encoding=\"UTF-8\") as f:\n",
    "        data = [line.rstrip().split(' ') for line in f.readlines()]\n",
    "    df = pd.DataFrame(data=data)\n",
    "    if len(df.columns) == 2:\n",
    "        df.columns = ['x', 'y']\n",
    "        for col in df.columns:\n",
    "            df[col] = df[col].astype('float32')\n",
    "    else:\n",
    "        for col in df.columns:\n",
    "            df[col] = df[col].astype('int64')\n",
    "    return df\n",
    "\n",
    "\n",
    "# Locations:\n",
    "locations = read_data(path_to_data + \"R2192_1x200_at5_step200_bin100-RAW_pos.dat\")\n",
    "\n",
    "# Spikes:\n",
    "fn = \"R2192_20ms_63_neurons.csv\"\n",
    "df = pd.read_csv(path_to_data + fn, encoding=\"UTF-8\", header=None)  # 63 ows, 54100 cols\n",
    "df = df.T\n",
    "df.head()"
   ]
  },
  {
   "cell_type": "code",
   "execution_count": 4,
   "id": "1115b706",
   "metadata": {},
   "outputs": [
    {
     "data": {
      "text/html": [
       "<div>\n",
       "<style scoped>\n",
       "    .dataframe tbody tr th:only-of-type {\n",
       "        vertical-align: middle;\n",
       "    }\n",
       "\n",
       "    .dataframe tbody tr th {\n",
       "        vertical-align: top;\n",
       "    }\n",
       "\n",
       "    .dataframe thead th {\n",
       "        text-align: right;\n",
       "    }\n",
       "</style>\n",
       "<table border=\"1\" class=\"dataframe\">\n",
       "  <thead>\n",
       "    <tr style=\"text-align: right;\">\n",
       "      <th></th>\n",
       "      <th>x</th>\n",
       "      <th>y</th>\n",
       "    </tr>\n",
       "  </thead>\n",
       "  <tbody>\n",
       "    <tr>\n",
       "      <th>0</th>\n",
       "      <td>51.719799</td>\n",
       "      <td>50.123798</td>\n",
       "    </tr>\n",
       "    <tr>\n",
       "      <th>1</th>\n",
       "      <td>52.901798</td>\n",
       "      <td>49.870300</td>\n",
       "    </tr>\n",
       "    <tr>\n",
       "      <th>2</th>\n",
       "      <td>53.595901</td>\n",
       "      <td>47.411301</td>\n",
       "    </tr>\n",
       "    <tr>\n",
       "      <th>3</th>\n",
       "      <td>47.983200</td>\n",
       "      <td>41.520599</td>\n",
       "    </tr>\n",
       "    <tr>\n",
       "      <th>4</th>\n",
       "      <td>38.970699</td>\n",
       "      <td>34.953899</td>\n",
       "    </tr>\n",
       "  </tbody>\n",
       "</table>\n",
       "</div>"
      ],
      "text/plain": [
       "           x          y\n",
       "0  51.719799  50.123798\n",
       "1  52.901798  49.870300\n",
       "2  53.595901  47.411301\n",
       "3  47.983200  41.520599\n",
       "4  38.970699  34.953899"
      ]
     },
     "execution_count": 4,
     "metadata": {},
     "output_type": "execute_result"
    }
   ],
   "source": [
    "locations.head()"
   ]
  },
  {
   "cell_type": "markdown",
   "id": "4bf36914",
   "metadata": {},
   "source": [
    "## Converting spikes to sentences"
   ]
  },
  {
   "cell_type": "code",
   "execution_count": 6,
   "id": "5d6da2f0",
   "metadata": {},
   "outputs": [
    {
     "data": {
      "text/plain": [
       "4"
      ]
     },
     "execution_count": 6,
     "metadata": {},
     "output_type": "execute_result"
    }
   ],
   "source": [
    "# Neurons:\n",
    "neurons = [str(x) for x in range(63)]\n",
    "df.columns = neurons\n",
    "\n",
    "np.max(np.max(df))  # max spikes in 20ms = 4"
   ]
  },
  {
   "cell_type": "code",
   "execution_count": 8,
   "id": "38f1c7da",
   "metadata": {},
   "outputs": [],
   "source": [
    "# Convert spikes in each timestep into a word, do this for all timesteps:\n",
    "\n",
    "start = 0\n",
    "end = 10\n",
    "sents = []\n",
    "\n",
    "for i in range(5410):  # 5410 timesteps of 200ms\n",
    "    sent_rows = df.iloc[start:end] # 10 consequtive rows, each representing activity in 20ms\n",
    "    sent_words = []\n",
    "    prev_pauses = 0\n",
    "\n",
    "    # One sentence (10 words), i.e. activity in 10*20ms = 200ms:\n",
    "    for j in range(start, end):\n",
    "\n",
    "        # all spikes in 20ms:\n",
    "        row = df.iloc[j]\n",
    "\n",
    "        # If there were no spikes in 20ms, mark pause with \"_\":\n",
    "        if np.sum(row) == 0:\n",
    "            if prev_pauses != 2:\n",
    "                prev_pauses += 1\n",
    "                sent_words.append('_')\n",
    "\n",
    "        else:\n",
    "            word = []\n",
    "            max_spikes = np.max(row)\n",
    "            for s in range(1, max_spikes+1):\n",
    "                word+=s*row[row == s].index.tolist()  # if same neuron spiked e.g. 3 times, we add its id 3 times.\n",
    "            shuffle(word) # shuffle ids of neurons that spiked in same 20ms interval\n",
    "            sent_words += word\n",
    "\n",
    "            if prev_pauses != 0:\n",
    "                prev_pauses = 0\n",
    "\n",
    "    sents.append(sent_words)\n",
    "    start += 10\n",
    "    end += 10"
   ]
  },
  {
   "cell_type": "code",
   "execution_count": null,
   "id": "f6fe2848",
   "metadata": {},
   "outputs": [],
   "source": [
    "# TODO: (MAYBE) Try replacing two pauses ('_') with one, and one with no pause. \n",
    "# Or try removing all pauses ('_'), or putting all pauses back. \n",
    "# Or try different max number of consequtive pauses. \n",
    "\n",
    "# TODO: (MAYBE): Use longer sentences for training word2vec (so that the moving window could cover\n",
    "# all text equally). Or use also sentences beginning at midpoint of the 200ms interval and ending at midpoint \n",
    "# of next 200ms interval for training word2vec. (Would help to use data in more uniform way, not discriminating \n",
    "# the last / first 20ms internvals in a sentence - the splits into sentences are actually artificial...).\n",
    "# If we use longer sentences, or also sentences starting at midpoint of 200ms interval, for training word2vec,\n",
    "# we should still use only the current version of sentences (i.e. exactly corresponding to each 200ms interval) \n",
    "# for making sentence vectors (see below) to be used as input to a regression model. "
   ]
  },
  {
   "cell_type": "code",
   "execution_count": 14,
   "id": "724ca64d",
   "metadata": {},
   "outputs": [
    {
     "data": {
      "text/plain": [
       "5410"
      ]
     },
     "execution_count": 14,
     "metadata": {},
     "output_type": "execute_result"
    }
   ],
   "source": [
    "len(sents)"
   ]
  },
  {
   "cell_type": "code",
   "execution_count": 18,
   "id": "07dd2f26",
   "metadata": {},
   "outputs": [
    {
     "data": {
      "text/plain": [
       "['_', '_', '51', '51', '_', '_', '55', '49', '_', '35', '4', '35', '56', '4']"
      ]
     },
     "execution_count": 18,
     "metadata": {},
     "output_type": "execute_result"
    }
   ],
   "source": [
    "sents[1]"
   ]
  },
  {
   "cell_type": "markdown",
   "id": "b8c95928",
   "metadata": {},
   "source": [
    "## Word2vec"
   ]
  },
  {
   "cell_type": "code",
   "execution_count": 9,
   "id": "4a57980a",
   "metadata": {},
   "outputs": [
    {
     "data": {
      "text/plain": [
       "(236623, 903320)"
      ]
     },
     "execution_count": 9,
     "metadata": {},
     "output_type": "execute_result"
    }
   ],
   "source": [
    "VECTOR_LEN = 250\n",
    "WINDOW_SIZE = 5  \n",
    "skipgram = 0\n",
    "# batch_size= 100 # (No. of words)\n",
    "model = Word2Vec(min_count=1, vector_size=VECTOR_LEN, window=WINDOW_SIZE, max_vocab_size=None, max_final_vocab=None,\n",
    "                 sg=skipgram, compute_loss=True)  # batch_words=batch_size\n",
    "\n",
    "# Train / test: \n",
    "train_sents = sents[:4400]\n",
    "test_sents = sents[4400:]\n",
    "\n",
    "# Build vocabulary:\n",
    "model.build_vocab(train_sents)\n",
    "\n",
    "sent_counts = len(train_sents)\n",
    "EPOCHS = 20\n",
    "model.train(corpus_iterable=train_sents, total_examples=sent_counts, epochs=EPOCHS,\n",
    "            compute_loss=True)  "
   ]
  },
  {
   "cell_type": "markdown",
   "id": "606617e1",
   "metadata": {},
   "source": [
    "### Most similar neurons"
   ]
  },
  {
   "cell_type": "code",
   "execution_count": 10,
   "id": "0ee296c1",
   "metadata": {},
   "outputs": [],
   "source": [
    "# Compare most similar neurons: (see png plots of spike locations to check if \n",
    "# receptive fields are indeed similar!)\n",
    "similar_neurons = []\n",
    "for neuron in neurons:\n",
    "    sims = model.wv.most_similar([neuron], topn=5)\n",
    "    similar_neurons.append([x for x, y in sims])\n",
    "\n",
    "similar_df = pd.DataFrame(data=similar_neurons).T\n",
    "\n",
    "# Save to csv:\n",
    "similar_df.to_csv(path_to_NLP + \"most_similar.csv\", encoding=\"UTF-8\", index=False)\n",
    "\n",
    "# --> Plot with plotting_neurons.ipynb\n",
    "\n",
    "# ->Seems like neurons with similar receptive fields indeed have similar vectors. \n",
    "# (Compared a few that have quite well defined receptive fields.)  "
   ]
  },
  {
   "cell_type": "markdown",
   "id": "7f0059f2",
   "metadata": {},
   "source": [
    "### Make sentence vectors for 200ms"
   ]
  },
  {
   "cell_type": "code",
   "execution_count": 11,
   "id": "9dd4ecb6",
   "metadata": {},
   "outputs": [],
   "source": [
    "# Average the neuron vectors to get sentence vectors:\n",
    "averaged_vecs = []  # both train and test\n",
    "for sent in sents:\n",
    "    vecs = [model.wv[code] for code in sent]\n",
    "    a = np.array(vecs)\n",
    "    # summed_vecs.append(np.sum(a, axis = 0))\n",
    "    averaged_vecs.append(np.mean(a, axis=0))\n",
    "\n",
    "train_vecs = averaged_vecs[:4400]\n",
    "test_vecs = averaged_vecs[4400:]\n",
    "\n",
    "df_train = pd.DataFrame(data=train_vecs)\n",
    "df_test = pd.DataFrame(data=test_vecs)\n",
    "\n",
    "train_y = locations[:4400]\n",
    "test_y = locations[4400:]"
   ]
  },
  {
   "cell_type": "markdown",
   "id": "9f0887af",
   "metadata": {},
   "source": [
    "## Classification models using word vectors"
   ]
  },
  {
   "cell_type": "markdown",
   "id": "18bfc571",
   "metadata": {},
   "source": [
    "In order to predict two output variables, we need to use Multioutput regression. \n",
    "\n",
    "From sklearn ( https://docs.w3cub.com/scikit_learn/modules/multiclass): _\"Multioutput regression support can be added to any regressor with MultiOutputRegressor. This strategy consists of fitting one regressor per target.\"_"
   ]
  },
  {
   "cell_type": "markdown",
   "id": "d2fb5e77",
   "metadata": {},
   "source": [
    "### Linear regression"
   ]
  },
  {
   "cell_type": "code",
   "execution_count": 12,
   "id": "b6a10ea4",
   "metadata": {},
   "outputs": [
    {
     "name": "stdout",
     "output_type": "stream",
     "text": [
      "28.83855141344368\n"
     ]
    }
   ],
   "source": [
    "reg_model = MultiOutputRegressor(LinearRegression())\n",
    "# reg_model = MultiOutputRegressor(RandomForestRegressor(min_samples_leaf=3)) \n",
    "\n",
    "reg_model = reg_model.fit(df_train, train_y)\n",
    "preds = reg_model.predict(df_test)\n",
    "preds = preds.T\n",
    "\n",
    "# Distance between predicted and actual location:\n",
    "dists = np.sqrt((test_y['x'] - preds[0]) ** 2 + (test_y['y'] - preds[1]) ** 2)\n",
    "avg_dist = np.mean(dists)\n",
    "print(avg_dist)"
   ]
  },
  {
   "cell_type": "markdown",
   "id": "51a9c6e6",
   "metadata": {},
   "source": [
    "### Random Forest Regressor"
   ]
  },
  {
   "cell_type": "code",
   "execution_count": 13,
   "id": "fff6f6b0",
   "metadata": {},
   "outputs": [
    {
     "name": "stdout",
     "output_type": "stream",
     "text": [
      "26.71159505567115\n"
     ]
    }
   ],
   "source": [
    "reg_model = MultiOutputRegressor(RandomForestRegressor(min_samples_leaf=3))\n",
    "\n",
    "reg_model = reg_model.fit(df_train, train_y)\n",
    "preds = reg_model.predict(df_test)\n",
    "preds = preds.T\n",
    "\n",
    "# Distance between predicted and actual location:\n",
    "dists = np.sqrt((test_y['x'] - preds[0]) ** 2 + (test_y['y'] - preds[1]) ** 2)\n",
    "avg_dist = np.mean(dists)\n",
    "print(avg_dist)"
   ]
  },
  {
   "cell_type": "code",
   "execution_count": null,
   "id": "89c1d046",
   "metadata": {},
   "outputs": [],
   "source": []
  },
  {
   "cell_type": "code",
   "execution_count": null,
   "id": "d4f94c61",
   "metadata": {},
   "outputs": [],
   "source": []
  }
 ],
 "metadata": {
  "kernelspec": {
   "display_name": "Python 3 (ipykernel)",
   "language": "python",
   "name": "python3"
  },
  "language_info": {
   "codemirror_mode": {
    "name": "ipython",
    "version": 3
   },
   "file_extension": ".py",
   "mimetype": "text/x-python",
   "name": "python",
   "nbconvert_exporter": "python",
   "pygments_lexer": "ipython3",
   "version": "3.8.10"
  }
 },
 "nbformat": 4,
 "nbformat_minor": 5
}
