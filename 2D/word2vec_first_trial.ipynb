{
 "cells": [
  {
   "cell_type": "code",
   "execution_count": 1,
   "id": "8cf80c8d",
   "metadata": {},
   "outputs": [
    {
     "ename": "ModuleNotFoundError",
     "evalue": "No module named 'gensim'",
     "output_type": "error",
     "traceback": [
      "\u001B[0;31m---------------------------------------------------------------------------\u001B[0m",
      "\u001B[0;31mModuleNotFoundError\u001B[0m                       Traceback (most recent call last)",
      "\u001B[0;32m/var/folders/w9/8pmrmvpd47j_nm5l2j2_d9gh0000gp/T/ipykernel_35022/914431700.py\u001B[0m in \u001B[0;36m<module>\u001B[0;34m\u001B[0m\n\u001B[1;32m      2\u001B[0m \u001B[0;32mimport\u001B[0m \u001B[0mmatplotlib\u001B[0m\u001B[0;34m.\u001B[0m\u001B[0mpyplot\u001B[0m \u001B[0;32mas\u001B[0m \u001B[0mplt\u001B[0m\u001B[0;34m\u001B[0m\u001B[0;34m\u001B[0m\u001B[0m\n\u001B[1;32m      3\u001B[0m \u001B[0;32mimport\u001B[0m \u001B[0mnumpy\u001B[0m \u001B[0;32mas\u001B[0m \u001B[0mnp\u001B[0m\u001B[0;34m\u001B[0m\u001B[0;34m\u001B[0m\u001B[0m\n\u001B[0;32m----> 4\u001B[0;31m \u001B[0;32mfrom\u001B[0m \u001B[0mgensim\u001B[0m\u001B[0;34m.\u001B[0m\u001B[0mmodels\u001B[0m\u001B[0;34m.\u001B[0m\u001B[0mword2vec\u001B[0m \u001B[0;32mimport\u001B[0m \u001B[0mWord2Vec\u001B[0m\u001B[0;34m\u001B[0m\u001B[0;34m\u001B[0m\u001B[0m\n\u001B[0m\u001B[1;32m      5\u001B[0m \u001B[0;32mfrom\u001B[0m \u001B[0mgensim\u001B[0m\u001B[0;34m.\u001B[0m\u001B[0mmodels\u001B[0m\u001B[0;34m.\u001B[0m\u001B[0mword2vec\u001B[0m \u001B[0;32mimport\u001B[0m \u001B[0mLineSentence\u001B[0m\u001B[0;34m\u001B[0m\u001B[0;34m\u001B[0m\u001B[0m\n\u001B[1;32m      6\u001B[0m \u001B[0;32mfrom\u001B[0m \u001B[0mgensim\u001B[0m\u001B[0;34m.\u001B[0m\u001B[0mmodels\u001B[0m \u001B[0;32mimport\u001B[0m \u001B[0mKeyedVectors\u001B[0m\u001B[0;34m\u001B[0m\u001B[0;34m\u001B[0m\u001B[0m\n",
      "\u001B[0;31mModuleNotFoundError\u001B[0m: No module named 'gensim'"
     ]
    }
   ],
   "source": [
    "from random import shuffle\n",
    "\n",
    "import numpy as np\n",
    "import pandas as pd\n",
    "from gensim.models.word2vec import Word2Vec\n",
    "from sklearn.ensemble import RandomForestRegressor\n",
    "from sklearn.linear_model import LinearRegression\n",
    "from sklearn.multioutput import MultiOutputRegressor\n",
    "\n",
    "path_to_data = \"data//\"\n",
    "path_to_NLP = \"NLP//\""
   ]
  },
  {
   "cell_type": "code",
   "execution_count": 4,
   "id": "077a364c",
   "metadata": {},
   "outputs": [],
   "source": [
    "# Load data:\n",
    "\n",
    "def read_data(fname):\n",
    "    with open(fname, \"r\", encoding=\"UTF-8\") as f:\n",
    "        data = [line.rstrip().split(' ') for line in f.readlines()]\n",
    "    df = pd.DataFrame(data=data)\n",
    "    if len(df.columns) == 2:\n",
    "        df.columns = ['x', 'y']\n",
    "        for col in df.columns:\n",
    "            df[col] = df[col].astype('float32')\n",
    "    else:\n",
    "        for col in df.columns:\n",
    "            df[col] = df[col].astype('int64')\n",
    "    return df\n",
    "\n",
    "\n",
    "# Locations:\n",
    "# fn = \"R2192_1x200_at5_step200_bin100-RAW_pos.dat\"\n",
    "# locations = read_data(\"R2192_pos.txt\")\n",
    "locations = read_data(path_to_data + \"R2192_1x200_at5_step200_bin100-RAW_pos.dat\")\n",
    "\n",
    "# Spikes:\n",
    "fn = \"R2192_20ms_63_neurons.csv\"\n",
    "df = pd.read_csv(path_to_data + fn, encoding=\"UTF-8\", header=None)  # 63 ows, 54100 cols\n",
    "df = df.T"
   ]
  },
  {
   "cell_type": "markdown",
   "id": "4bf36914",
   "metadata": {},
   "source": [
    "## Converting spikes to sentences"
   ]
  },
  {
   "cell_type": "code",
   "execution_count": 7,
   "id": "5d6da2f0",
   "metadata": {},
   "outputs": [
    {
     "data": {
      "text/plain": [
       "4"
      ]
     },
     "execution_count": 7,
     "metadata": {},
     "output_type": "execute_result"
    }
   ],
   "source": [
    "# Letters:\n",
    "letters = [str(x) for x in range(63)]\n",
    "df.columns = letters\n",
    "\n",
    "np.max(np.max(df))  # max spikes in 20ms = 4"
   ]
  },
  {
   "cell_type": "code",
   "execution_count": 8,
   "id": "38f1c7da",
   "metadata": {},
   "outputs": [],
   "source": [
    "# Convert spikes in each timestep into a word, do this for all timesteps:\n",
    "\n",
    "start = 0\n",
    "end = 10\n",
    "sents = []\n",
    "\n",
    "for i in range(5410):\n",
    "    sent_rows = df.iloc[start:end]\n",
    "    sent_words = []\n",
    "    prev_pauses = 0\n",
    "\n",
    "    # One sentence (10 words):\n",
    "    for j in range(start, end):\n",
    "\n",
    "        # all spikes in 20ms:\n",
    "        row = df.iloc[j]\n",
    "\n",
    "        # No spikes:\n",
    "        if np.sum(row) == 0:\n",
    "            if prev_pauses != 2:\n",
    "                prev_pauses += 1\n",
    "                sent_words.append('_')\n",
    "\n",
    "        # Spikes:\n",
    "        else:\n",
    "            one_spike = row[row == 1].index.tolist()  # ['t']\n",
    "            two_spikes = row[row == 2].index.tolist()\n",
    "            three_spikes = row[row == 3].index.tolist()\n",
    "            four_spikes = row[row == 4].index.tolist()\n",
    "            word = 4 * four_spikes + 3 * three_spikes + 2 * two_spikes + one_spike\n",
    "            # word = \"\".join(row)\n",
    "            shuffle(word)\n",
    "            sent_words += word\n",
    "\n",
    "            if prev_pauses != 0:\n",
    "                prev_pauses = 0\n",
    "\n",
    "    sents.append(sent_words)\n",
    "    start += 10\n",
    "    end += 10"
   ]
  },
  {
   "cell_type": "code",
   "execution_count": null,
   "id": "f6fe2848",
   "metadata": {},
   "outputs": [],
   "source": [
    "# # MAYBE: Replace two pauses ('_') with one, and one with no pause.\n",
    "\n",
    "# sents2 = []\n",
    "# for sent in sents:\n",
    "#     pauses = 0\n",
    "#     new_sent = []\n",
    "#     for word in sent:\n",
    "#         if word==\"_\":\n",
    "#             if pauses==0:\n",
    "#                 pauses+=1\n",
    "#             elif pauses==1:\n",
    "#                 new_sent.append(word)\n",
    "#                 pauses = 0\n",
    "#         else:\n",
    "#             new_sent.append(word)\n",
    "#             pauses = 0\n",
    "#     sents2.append(new_sent)\n",
    "\n",
    "# sents = sents2  # result was pretty much the same as with sents\n",
    "\n",
    "# TODO: (MAYBE) Remove all pauses ('_')\n",
    "\n",
    "# TODO: (MAYBE): Use also sentences béginning at midpoint of the 200ms interval and ending at midpoint \n",
    "# of next 200ms interval. (Would help to use data in more uniform way, not discriminating \n",
    "# the last / first 20ms internvals in a sentence - the splits into sentences are actually artificial...)."
   ]
  },
  {
   "cell_type": "markdown",
   "id": "b8c95928",
   "metadata": {},
   "source": [
    "## Word2vec"
   ]
  },
  {
   "cell_type": "code",
   "execution_count": 9,
   "id": "4a57980a",
   "metadata": {},
   "outputs": [
    {
     "data": {
      "text/plain": [
       "(236758, 903320)"
      ]
     },
     "execution_count": 9,
     "metadata": {},
     "output_type": "execute_result"
    }
   ],
   "source": [
    "VECTOR_LEN = 250\n",
    "WINDOW_SIZE = 5  # 5\n",
    "skipgram = 0\n",
    "# batch_size= 100 # (No. of words)\n",
    "model = Word2Vec(min_count=1, vector_size=VECTOR_LEN, window=WINDOW_SIZE, max_vocab_size=None, max_final_vocab=None,\n",
    "                 sg=skipgram, compute_loss=True)  # workers = workers, batch_words=batch_size\n",
    "\n",
    "# Train / test: \n",
    "train_sents = sents[:4400]\n",
    "test_sents = sents[4400:]\n",
    "\n",
    "# Build vocabulary:\n",
    "model.build_vocab(train_sents)\n",
    "\n",
    "sent_counts = len(train_sents)\n",
    "EPOCHS = 20\n",
    "model.train(corpus_iterable=train_sents, total_examples=sent_counts, epochs=EPOCHS,\n",
    "            compute_loss=True)  # , callbacks=[my_callback(eval_fragments, train_fragments, model, \n",
    "# EPOCHS, log_string, model_path, model_name, path_to_w2v, s)]"
   ]
  },
  {
   "cell_type": "markdown",
   "id": "606617e1",
   "metadata": {},
   "source": [
    "### Most similar neurons"
   ]
  },
  {
   "cell_type": "code",
   "execution_count": 10,
   "id": "0ee296c1",
   "metadata": {},
   "outputs": [],
   "source": [
    "# Compare most similar neurons: (see png plots of spike locations to check if \n",
    "# receptive fields are indeed similar!)\n",
    "similar_neurons = []\n",
    "for neuron in letters:\n",
    "    sims = model.wv.most_similar([neuron], topn=5)\n",
    "    similar_neurons.append([x for x, y in sims])\n",
    "\n",
    "similar_df = pd.DataFrame(data=similar_neurons).T\n",
    "\n",
    "# Save to csv:\n",
    "similar_df.to_csv(path_to_NLP + \"most_similar.csv\", encoding=\"UTF-8\", index=False)\n",
    "\n",
    "# --> Plot with plotting_neurons.ipynb\n",
    "\n",
    "# ->Seems like neurons with similar receptive fields indeed have similar vectors. \n",
    "# (Compared a few that have quite well defined receptive fields.)  "
   ]
  },
  {
   "cell_type": "markdown",
   "id": "7f0059f2",
   "metadata": {},
   "source": [
    "### Make sentence vectors for 200ms"
   ]
  },
  {
   "cell_type": "code",
   "execution_count": 11,
   "id": "9dd4ecb6",
   "metadata": {},
   "outputs": [],
   "source": [
    "# Average the neuron vectors to get sentence vectors:\n",
    "averaged_vecs = []  # both train and test\n",
    "for sent in sents:\n",
    "    vecs = [model.wv[code] for code in sent]\n",
    "    a = np.array(vecs)\n",
    "    # summed_vecs.append(np.sum(a, axis = 0))\n",
    "    averaged_vecs.append(np.mean(a, axis=0))\n",
    "\n",
    "train_vecs = averaged_vecs[:4400]\n",
    "test_vecs = averaged_vecs[4400:]\n",
    "\n",
    "df_train = pd.DataFrame(data=train_vecs)\n",
    "df_test = pd.DataFrame(data=test_vecs)\n",
    "\n",
    "train_y = locations[:4400]\n",
    "test_y = locations[4400:]"
   ]
  },
  {
   "cell_type": "markdown",
   "id": "9f0887af",
   "metadata": {},
   "source": [
    "## Classification models using word vectors"
   ]
  },
  {
   "cell_type": "markdown",
   "id": "18bfc571",
   "metadata": {},
   "source": [
    "In order to predict two output variables, we need to use Multioutput regression. \n",
    "\n",
    "From sklearn ( https://docs.w3cub.com/scikit_learn/modules/multiclass): _\"Multioutput regression support can be added to any regressor with MultiOutputRegressor. This strategy consists of fitting one regressor per target.\"_"
   ]
  },
  {
   "cell_type": "markdown",
   "id": "d2fb5e77",
   "metadata": {},
   "source": [
    "### Linear regression"
   ]
  },
  {
   "cell_type": "code",
   "execution_count": 12,
   "id": "b6a10ea4",
   "metadata": {},
   "outputs": [
    {
     "name": "stdout",
     "output_type": "stream",
     "text": [
      "29.050526117748234\n"
     ]
    }
   ],
   "source": [
    "reg_model = MultiOutputRegressor(LinearRegression())\n",
    "# reg_model = MultiOutputRegressor(RandomForestRegressor(min_samples_leaf=3)) \n",
    "\n",
    "reg_model = reg_model.fit(df_train, train_y)\n",
    "preds = reg_model.predict(df_test)\n",
    "preds = preds.T\n",
    "\n",
    "# Distance between predicted and actual location:\n",
    "dists = np.sqrt((test_y['x'] - preds[0]) ** 2 + (test_y['y'] - preds[1]) ** 2)\n",
    "avg_dist = np.mean(dists)\n",
    "print(avg_dist)"
   ]
  },
  {
   "cell_type": "markdown",
   "id": "51a9c6e6",
   "metadata": {},
   "source": [
    "### Random Forest Regressor"
   ]
  },
  {
   "cell_type": "code",
   "execution_count": 13,
   "id": "fff6f6b0",
   "metadata": {},
   "outputs": [
    {
     "name": "stdout",
     "output_type": "stream",
     "text": [
      "26.94782955428862\n"
     ]
    }
   ],
   "source": [
    "reg_model = MultiOutputRegressor(RandomForestRegressor(min_samples_leaf=3))\n",
    "\n",
    "reg_model = reg_model.fit(df_train, train_y)\n",
    "preds = reg_model.predict(df_test)\n",
    "preds = preds.T\n",
    "\n",
    "# Distance between predicted and actual location:\n",
    "dists = np.sqrt((test_y['x'] - preds[0]) ** 2 + (test_y['y'] - preds[1]) ** 2)\n",
    "avg_dist = np.mean(dists)\n",
    "print(avg_dist)"
   ]
  },
  {
   "cell_type": "code",
   "execution_count": null,
   "id": "89c1d046",
   "metadata": {},
   "outputs": [],
   "source": []
  },
  {
   "cell_type": "code",
   "execution_count": null,
   "id": "d4f94c61",
   "metadata": {},
   "outputs": [],
   "source": []
  }
 ],
 "metadata": {
  "kernelspec": {
   "display_name": "Python 3 (ipykernel)",
   "language": "python",
   "name": "python3"
  },
  "language_info": {
   "codemirror_mode": {
    "name": "ipython",
    "version": 3
   },
   "file_extension": ".py",
   "mimetype": "text/x-python",
   "name": "python",
   "nbconvert_exporter": "python",
   "pygments_lexer": "ipython3",
   "version": "3.8.10"
  }
 },
 "nbformat": 4,
 "nbformat_minor": 5
}