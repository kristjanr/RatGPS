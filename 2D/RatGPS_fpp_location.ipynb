{
 "cells": [
  {
   "cell_type": "code",
   "execution_count": 1,
   "metadata": {
    "colab": {
     "base_uri": "https://localhost:8080/"
    },
    "id": "19fj3hdwQlSP",
    "outputId": "d6b68b18-8827-49cf-e207-fd14192bcb26"
   },
   "outputs": [],
   "source": [
    "!pip install gensim==4.1.2"
   ]
  },
  {
   "cell_type": "code",
   "execution_count": 148,
   "metadata": {
    "id": "Ij-Adq37MjjE"
   },
   "outputs": [],
   "source": [
    "import pandas as pd\n",
    "import tensorflow\n",
    "from tensorflow.keras.preprocessing import timeseries_dataset_from_array\n",
    "import numpy as np\n",
    "import math\n",
    "from gensim.models.word2vec import Word2Vec\n",
    "from sklearn.ensemble import RandomForestRegressor\n",
    "from sklearn.linear_model import LinearRegression\n",
    "from sklearn.multioutput import MultiOutputRegressor\n",
    "from random import shuffle\n",
    "import matplotlib.pyplot as plt\n",
    "from tqdm import tqdm\n",
    "from statistics import mean\n",
    "import pickle"
   ]
  },
  {
   "cell_type": "code",
   "execution_count": 119,
   "metadata": {
    "id": "buOGWN2wMmiI"
   },
   "outputs": [],
   "source": [
    "# Use the unprocessed raw data. both spikes and locations measured at 20ms. \n",
    "# One should be able to replicate all rat2192 feat and pos files from these sources\n",
    "raw_spikes = pd.read_csv(\"https://drive.google.com/uc?id=1-IuXanc2RZICrzqEG7jTg7f_AN9K9Ufl&export=download\", header=None)\n",
    "raw_loc = pd.read_csv(\"https://drive.google.com/uc?id=1-XHfaaYkfNeQHYefY4uGX4r1q3AKGbic&export=download\", header=None)\n",
    "#speed = pd.read_csv(\"data/R2192_20ms_speed_direction.csv\")\n",
    "\n",
    "#raw_spikes = raw_spikes.join(speed[\"speed\"])\n",
    "\n",
    "raw_loc.columns = [\"x\", \"y\"]\n",
    "\n",
    "raw_spikes_revers = raw_spikes[::-1].reset_index(drop = True)\n",
    "raw_loc_revers = raw_loc[::-1].reset_index(drop = True)"
   ]
  },
  {
   "cell_type": "code",
   "execution_count": 120,
   "metadata": {
    "id": "lT4Fqb_KMwKE"
   },
   "outputs": [],
   "source": [
    "def get_windows(df_len, window_len=10, window_hop=10, skip=0, midpos=-1, drop_incomplete=False):\n",
    "    num_windows = math.ceil((df_len - skip) / window_hop)\n",
    "    answer = []\n",
    "    for i in range(num_windows):\n",
    "        start = skip + i * window_hop\n",
    "        end = min(start + window_len, df_len)\n",
    "\n",
    "        if drop_incomplete and end-start < window_len:\n",
    "            print(f\"Dropping range {start}-{end}\")\n",
    "            break\n",
    "\n",
    "        if midpos == -1:\n",
    "            mid = math.floor((start + end) / 2)\n",
    "        else:\n",
    "            mid = start + midpos\n",
    "\n",
    "        answer.append((start, end, mid))\n",
    "\n",
    "    return answer\n",
    "\n",
    "\n",
    "\n",
    "def build_sentences(df, window_len = 70, window_hop = 10, skip = 0, max_empty_words = -1, word_ordering = \"shuffle\"):\n",
    "    \"\"\"\n",
    "    builds sentence vectors from spiking data\n",
    "    window_len: how many spiking timesteps are used for one sentence\n",
    "    window_hop: how much to slide the window. if window_len==window_hop there is no overlap. if hop<len, there is overlap.\n",
    "    max_empty_words: how many consecutive empty words (\"_\") to keep. if 0, they are removed alltogether. if -1, keep all of them\n",
    "    word_ordering: \"shuffle\" or \"sort\". If several neurons spike in one timestep, how to order them. If the same set of neurons spiked, maybe we should have consistent ordering?\n",
    "    skip: how many timesteps to skip from the beginning. maybe the rat is training at first and we should discard that data?\n",
    "    \"\"\"\n",
    "\n",
    "    sents = []\n",
    "    for w in get_windows(len(df), window_len, window_hop, skip):\n",
    "        start, end, mid = w\n",
    "\n",
    "        # process one sentence\n",
    "        sent_words = []\n",
    "        empty_seq_len = 0\n",
    "        for j in range(start, end):\n",
    "            row = df.iloc[j]\n",
    "\n",
    "            if np.sum(row) == 0:\n",
    "                empty_seq_len += 1\n",
    "\n",
    "                if max_empty_words == -1 or max_empty_words >= empty_seq_len:\n",
    "                    sent_words.append(64)\n",
    "\n",
    "            else:\n",
    "                empty_seq_len = 0\n",
    "\n",
    "                one_spike = row[row == 1].index.tolist()\n",
    "                two_spikes = row[row == 2].index.tolist()\n",
    "                three_spikes = row[row == 3].index.tolist()\n",
    "                four_spikes = row[row == 4].index.tolist()\n",
    "                word = 4 * four_spikes + 3 * three_spikes + 2 * two_spikes + one_spike\n",
    "\n",
    "                if word_ordering == \"shuffle\":\n",
    "                    shuffle(word)\n",
    "                else:\n",
    "                    word.sort()\n",
    "\n",
    "                sent_words += word\n",
    "\n",
    "        if len(sent_words) == 0:\n",
    "            sent_words = [64]\n",
    "\n",
    "        sents.append(sent_words)\n",
    "\n",
    "    return sents\n",
    "\n",
    "\n",
    "\n",
    "def get_locations_past_future(df, window_len=70, window_hop=10, skip=0):\n",
    "    idx = [False] * len(df)\n",
    "    for w in get_windows(len(df), window_len, window_hop, skip):\n",
    "        end = w[1]\n",
    "        idx[end - 1] = True\n",
    "\n",
    "    return df[idx]\n",
    "\n",
    "def get_locations_present(df, window_len=70, window_hop=10, skip=0):\n",
    "    idx = [False] * len(df)\n",
    "    for w in get_windows(len(df), window_len, window_hop, skip):\n",
    "        mid = w[2]\n",
    "        idx[mid - 1] = True\n",
    "\n",
    "    return df[idx]"
   ]
  },
  {
   "cell_type": "code",
   "execution_count": 121,
   "metadata": {
    "id": "nwEe7hFfM3l7"
   },
   "outputs": [],
   "source": [
    "def train_word2vec(sents, vector_len=250, train_size=0.8, window_size=5, sg=0, shrink_windows=True, alpha=0.025, seed=42):\n",
    "    model = Word2Vec(min_count=1, vector_size=vector_len, window=window_size, max_vocab_size=None, max_final_vocab=None,\n",
    "                   sg=sg, compute_loss=True, workers=6, shrink_windows=shrink_windows, alpha=alpha, seed=seed)\n",
    "    # Build vocab from full dataset.\n",
    "    # In some cases, the word might not have ended up in train set. Then the model would throw an error.\n",
    "    model.build_vocab(sents)\n",
    "\n",
    "    train_test_boundary = math.floor(len(sents) * train_size)\n",
    "    train_sents = sents[:train_test_boundary]\n",
    "    model.train(corpus_iterable=train_sents, total_examples=len(train_sents), epochs=20, compute_loss=True)\n",
    "    return model"
   ]
  },
  {
   "cell_type": "code",
   "execution_count": 122,
   "metadata": {
    "id": "pKKRL7lzRxoM"
   },
   "outputs": [],
   "source": [
    "def build_features(word2vec_model, sents, method=\"mean\"):\n",
    "    features = []\n",
    "    for sent in sents:\n",
    "        vecs = np.array([word2vec_model.wv[word] for word in sent])\n",
    "        if method == \"mean\":\n",
    "            features.append(np.mean(vecs, axis=0))\n",
    "        else:\n",
    "            # concatenate instead\n",
    "            features.append(vecs.flatten())\n",
    "\n",
    "    if method != \"mean\":\n",
    "        # right-pad every row with zeros so that every vector has the same length\n",
    "        maxlen = max([len(row) for row in features])\n",
    "        features = [np.append(row, [0] * (maxlen - len(row))) for row in features]\n",
    "        features = np.array(features)\n",
    "    return features"
   ]
  },
  {
   "cell_type": "code",
   "execution_count": 123,
   "metadata": {
    "id": "5jATZovtM7me"
   },
   "outputs": [],
   "source": [
    "def split_df(df, train_ratio):\n",
    "    idx = math.floor(len(df) * train_ratio)\n",
    "    return df[:idx], df[idx:]\n",
    "\n",
    "\n",
    "#wordVecs, sents, locs,\n",
    "#sent_vecs = build_features(wordVecs, sents, method = \"mean\")\n",
    "def benchmark(model: MultiOutputRegressor, X, y, train_ratio=0.8):\n",
    "    if len(X) != len(y):\n",
    "        raise Exception(f\"different number of sentences and locations: {len(X)} != {len(y)}\")\n",
    "\n",
    "    train_x, test_x = split_df(X, train_ratio)\n",
    "    train_x = pd.DataFrame(data=train_x)\n",
    "    test_x = pd.DataFrame(data=test_x)\n",
    "\n",
    "    train_y, test_y = split_df(locations, train_ratio)\n",
    "\n",
    "    model = model.fit(train_x, train_y)\n",
    "    preds = model.predict(test_x)\n",
    "    preds = preds.T\n",
    "\n",
    "    dists = np.sqrt((test_y['x'] - preds[0]) ** 2 + (test_y['y'] - preds[1]) ** 2)\n",
    "    avg_dist = np.mean(dists)\n",
    "\n",
    "    return avg_dist\n"
   ]
  },
  {
   "cell_type": "code",
   "execution_count": 124,
   "metadata": {
    "id": "b-kEUKTrWVWp"
   },
   "outputs": [],
   "source": [
    "MAE_LR = []\n",
    "MAE_RFR = []"
   ]
  },
  {
   "cell_type": "code",
   "execution_count": 125,
   "metadata": {
    "colab": {
     "base_uri": "https://localhost:8080/"
    },
    "id": "bQxi8WwlM-zE",
    "outputId": "09a98eda-90b4-4091-9665-f134f993c307"
   },
   "outputs": [
    {
     "name": "stderr",
     "output_type": "stream",
     "text": [
      "100%|██████████████████████████████████████████████████████████████████████████████| 300/300 [2:07:23<00:00, 25.48s/it]\n"
     ]
    }
   ],
   "source": [
    "for i in tqdm(range(3010, 10, -10)):\n",
    "\n",
    "    sents = build_sentences(raw_spikes_revers, window_len=i, window_hop=i, skip=0)\n",
    "    locations = get_locations_past_future(raw_loc_revers, window_len=i, window_hop=i, skip=0)\n",
    "\n",
    "    word2vec_model = train_word2vec(sents)\n",
    "    input_features = build_features(word2vec_model, sents, method=\"mean\")\n",
    "\n",
    "    avg_dist_lr = benchmark(\n",
    "    MultiOutputRegressor(LinearRegression()),\n",
    "    X=input_features,\n",
    "    y=locations\n",
    "    )\n",
    "    MAE_LR.append(avg_dist_lr)\n",
    "\n",
    "\n",
    "    avg_dist_rfr = benchmark(\n",
    "    MultiOutputRegressor(RandomForestRegressor(min_samples_leaf=3)),\n",
    "    X=input_features,\n",
    "    y=locations\n",
    "    )\n",
    "    MAE_RFR.append(avg_dist_rfr)"
   ]
  },
  {
   "cell_type": "code",
   "execution_count": 126,
   "metadata": {},
   "outputs": [],
   "source": [
    "sents = build_sentences(raw_spikes, window_len=10, window_hop=10, skip=0)\n",
    "locations = get_locations_present(raw_loc, window_len=10, window_hop=10, skip=0)\n",
    "\n",
    "word2vec_model = train_word2vec(sents)\n",
    "input_features = build_features(word2vec_model, sents, method=\"mean\")\n",
    "\n",
    "avg_dist_lr = benchmark(\n",
    "MultiOutputRegressor(LinearRegression()),\n",
    "X=input_features,\n",
    "y=locations\n",
    ")\n",
    "MAE_LR.append(avg_dist_lr)\n",
    "    \n",
    "\n",
    "avg_dist_rfr = benchmark(\n",
    "MultiOutputRegressor(RandomForestRegressor(min_samples_leaf=3)),\n",
    "X=input_features,\n",
    "y=locations\n",
    ")\n",
    "MAE_RFR.append(avg_dist_rfr)"
   ]
  },
  {
   "cell_type": "code",
   "execution_count": 127,
   "metadata": {
    "id": "VEOo6omVWKIQ"
   },
   "outputs": [
    {
     "name": "stderr",
     "output_type": "stream",
     "text": [
      "100%|██████████████████████████████████████████████████████████████████████████████| 300/300 [2:05:07<00:00, 25.02s/it]\n"
     ]
    }
   ],
   "source": [
    "for i in tqdm(range(10, 3010, 10)):\n",
    "\n",
    "    sents = build_sentences(raw_spikes, window_len=i, window_hop=i, skip=0)\n",
    "    locations = get_locations_past_future(raw_loc, window_len=i, window_hop=i, skip=0)\n",
    "\n",
    "    word2vec_model = train_word2vec(sents)\n",
    "    input_features = build_features(word2vec_model, sents, method=\"mean\")\n",
    "\n",
    "    avg_dist_lr = benchmark(\n",
    "    MultiOutputRegressor(LinearRegression()),\n",
    "    X=input_features,\n",
    "    y=locations\n",
    "    )\n",
    "    MAE_LR.append(avg_dist_lr)\n",
    "    \n",
    "\n",
    "    avg_dist_rfr = benchmark(\n",
    "    MultiOutputRegressor(RandomForestRegressor(min_samples_leaf=3)),\n",
    "    X=input_features,\n",
    "    y=locations\n",
    "    )\n",
    "    MAE_RFR.append(avg_dist_rfr)\n"
   ]
  },
  {
   "cell_type": "markdown",
   "metadata": {},
   "source": [
    "## Pickle load"
   ]
  },
  {
   "cell_type": "code",
   "execution_count": null,
   "metadata": {},
   "outputs": [],
   "source": [
    "with open('MAE_LR', 'rb') as f:\n",
    "    MAE_LR = pickle.load(f)\n",
    "\n",
    "with open('MAE_RFR', 'rb') as f:\n",
    "    MAE_RFR = pickle.load(f)"
   ]
  },
  {
   "cell_type": "code",
   "execution_count": 139,
   "metadata": {
    "id": "QGxQemgSMsLu"
   },
   "outputs": [
    {
     "data": {
      "text/plain": [
       "(601, 601)"
      ]
     },
     "execution_count": 139,
     "metadata": {},
     "output_type": "execute_result"
    }
   ],
   "source": [
    "len(MAE_LR), len(MAE_RFR)"
   ]
  },
  {
   "cell_type": "markdown",
   "metadata": {},
   "source": [
    "## Linear Regression"
   ]
  },
  {
   "cell_type": "code",
   "execution_count": 140,
   "metadata": {},
   "outputs": [
    {
     "data": {
      "text/plain": [
       "(101.17169318361402, 28.170913403104613, 160.57199550990302)"
      ]
     },
     "execution_count": 140,
     "metadata": {},
     "output_type": "execute_result"
    }
   ],
   "source": [
    "LR_past_mean = mean(MAE_LR[0:300])\n",
    "LR_present = MAE_LR[300]\n",
    "LR_future_mean = mean(MAE_LR[301:601])\n",
    "LR_past_mean, LR_present, LR_future_mean"
   ]
  },
  {
   "cell_type": "code",
   "execution_count": 141,
   "metadata": {
    "id": "I5WPTQRno3gw"
   },
   "outputs": [
    {
     "data": {
      "image/png": "[encoded data removed]",
      "text/plain": [
       "<Figure size 1440x576 with 1 Axes>"
      ]
     },
     "metadata": {
      "needs_background": "light"
     },
     "output_type": "display_data"
    }
   ],
   "source": [
    "timesteps = list(range(-300,301))\n",
    "\n",
    "plt.rcParams[\"figure.figsize\"] = (20, 8)\n",
    "plt.scatter(timesteps, MAE_LR, s = 3)\n",
    "plt.hlines(y = LR_past_mean, xmin = -300, xmax = -1, colors = \"red\")\n",
    "plt.hlines(y = LR_future_mean, xmin = 1, xmax = 300, colors = \"red\")\n",
    "plt.title('Mean absolute error of Linear Regression')\n",
    "plt.xlabel('Timesteps (200ms)')\n",
    "plt.ylabel('MAE')\n",
    "plt.show()"
   ]
  },
  {
   "cell_type": "code",
   "execution_count": 142,
   "metadata": {},
   "outputs": [
    {
     "data": {
      "text/plain": [
       "(35.78120515422545, 28.170913403104613, 44.544505534296995)"
      ]
     },
     "execution_count": 142,
     "metadata": {},
     "output_type": "execute_result"
    }
   ],
   "source": [
    "LR_past_mean = mean(MAE_LR[270:300])\n",
    "LR_present = MAE_LR[300]\n",
    "LR_future_mean = mean(MAE_LR[301:331])\n",
    "LR_past_mean, LR_present, LR_future_mean"
   ]
  },
  {
   "cell_type": "code",
   "execution_count": 143,
   "metadata": {},
   "outputs": [
    {
     "data": {
      "image/png": "[encoded data removed]",
      "text/plain": [
       "<Figure size 1440x576 with 1 Axes>"
      ]
     },
     "metadata": {
      "needs_background": "light"
     },
     "output_type": "display_data"
    }
   ],
   "source": [
    "timesteps = list(range(-300,301))\n",
    "\n",
    "plt.rcParams[\"figure.figsize\"] = (20, 8)\n",
    "plt.scatter(timesteps[270:331], MAE_LR[270:331], s = 5)\n",
    "plt.hlines(y = LR_past_mean, xmin = -30, xmax = -1, colors = \"red\")\n",
    "plt.hlines(y = LR_future_mean, xmin = 1, xmax = 30, colors = \"red\")\n",
    "plt.title('Mean absolute error of Linear Regression')\n",
    "plt.xlabel('Timesteps (200ms)')\n",
    "plt.ylabel('MAE')\n",
    "plt.show()"
   ]
  },
  {
   "cell_type": "markdown",
   "metadata": {},
   "source": [
    "## Random Forest Regressor"
   ]
  },
  {
   "cell_type": "code",
   "execution_count": 144,
   "metadata": {},
   "outputs": [
    {
     "data": {
      "text/plain": [
       "(32.20260467251024, 25.996488341192443, 31.188641022423496)"
      ]
     },
     "execution_count": 144,
     "metadata": {},
     "output_type": "execute_result"
    }
   ],
   "source": [
    "RFR_past_mean = mean(MAE_RFR[0:300])\n",
    "RFR_present = MAE_RFR[300]\n",
    "RFR_future_mean = mean(MAE_RFR[301:601])\n",
    "RFR_past_mean, RFR_present, RFR_future_mean"
   ]
  },
  {
   "cell_type": "code",
   "execution_count": 145,
   "metadata": {},
   "outputs": [
    {
     "data": {
      "image/png": "[encoded data removed]",
      "text/plain": [
       "<Figure size 1440x576 with 1 Axes>"
      ]
     },
     "metadata": {
      "needs_background": "light"
     },
     "output_type": "display_data"
    }
   ],
   "source": [
    "timesteps = list(range(-300,301))\n",
    "\n",
    "plt.rcParams[\"figure.figsize\"] = (20, 8)\n",
    "plt.scatter(timesteps, MAE_RFR, s = 3)\n",
    "plt.hlines(y = RFR_past_mean, xmin = -300, xmax = -1, colors = \"red\")\n",
    "plt.hlines(y = RFR_future_mean, xmin = 1, xmax = 300, colors = \"red\")\n",
    "plt.title('Mean absolute error of Random Forest Regressor')\n",
    "plt.xlabel('Timesteps (200ms)')\n",
    "plt.ylabel('MAE')\n",
    "plt.show()"
   ]
  },
  {
   "cell_type": "code",
   "execution_count": 146,
   "metadata": {},
   "outputs": [
    {
     "data": {
      "text/plain": [
       "(25.056498080778407, 25.996488341192443, 24.4570744483494)"
      ]
     },
     "execution_count": 146,
     "metadata": {},
     "output_type": "execute_result"
    }
   ],
   "source": [
    "RFR_past_mean = mean(MAE_RFR[270:300])\n",
    "RFR_present = MAE_RFR[300]\n",
    "RFR_future_mean = mean(MAE_RFR[301:331])\n",
    "RFR_past_mean, RFR_present, RFR_future_mean"
   ]
  },
  {
   "cell_type": "code",
   "execution_count": 147,
   "metadata": {},
   "outputs": [
    {
     "data": {
      "image/png": "[encoded data removed]",
      "text/plain": [
       "<Figure size 1440x576 with 1 Axes>"
      ]
     },
     "metadata": {
      "needs_background": "light"
     },
     "output_type": "display_data"
    }
   ],
   "source": [
    "timesteps = list(range(-300,301))\n",
    "\n",
    "plt.rcParams[\"figure.figsize\"] = (20, 8)\n",
    "plt.scatter(timesteps[270:331], MAE_RFR[270:331], s = 5)\n",
    "plt.hlines(y = RFR_past_mean, xmin = -30, xmax = -1, colors = \"red\")\n",
    "plt.hlines(y = RFR_future_mean, xmin = 1, xmax = 30, colors = \"red\")\n",
    "plt.title('Mean absolute error of Random Forest Regressor')\n",
    "plt.xlabel('Timesteps (200ms)')\n",
    "plt.ylabel('MAE')\n",
    "plt.show()"
   ]
  }
 ],
 "metadata": {
  "colab": {
   "collapsed_sections": [],
   "name": "RatGPS_fpp_location.ipynb",
   "provenance": []
  },
  "kernelspec": {
   "display_name": "Python 3 (ipykernel)",
   "language": "python",
   "name": "python3"
  },
  "language_info": {
   "codemirror_mode": {
    "name": "ipython",
    "version": 3
   },
   "file_extension": ".py",
   "mimetype": "text/x-python",
   "name": "python",
   "nbconvert_exporter": "python",
   "pygments_lexer": "ipython3",
   "version": "3.9.7"
  }
 },
 "nbformat": 4,
 "nbformat_minor": 1
}
